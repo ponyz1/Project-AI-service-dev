{
  "cells": [
    {
      "cell_type": "code",
      "execution_count": 75,
      "metadata": {
        "id": "qRxNsX2bPZwC"
      },
      "outputs": [],
      "source": [
        "import pandas as pd\n",
        "import numpy as np\n",
        "from sklearn.model_selection import train_test_split, GridSearchCV\n",
        "from sklearn.ensemble import RandomForestRegressor, GradientBoostingRegressor\n",
        "from sklearn.neural_network import MLPRegressor\n",
        "from sklearn.preprocessing import StandardScaler\n",
        "from sklearn.metrics import mean_squared_error, r2_score\n",
        "import xgboost as xgb\n",
        "from sklearn.pipeline import Pipeline\n",
        "import matplotlib.pyplot as plt\n",
        "import joblib\n",
        "import pickle"
      ]
    },
    {
      "cell_type": "code",
      "execution_count": 5,
      "metadata": {
        "id": "qR9K9ztOQNhB"
      },
      "outputs": [],
      "source": [
        "model = None\n",
        "scaler = StandardScaler()\n",
        "feature_names = None"
      ]
    },
    {
      "cell_type": "code",
      "execution_count": 3,
      "metadata": {
        "colab": {
          "base_uri": "https://localhost:8080/"
        },
        "id": "UMqtTO-tPdgC",
        "outputId": "de17dd79-710c-4445-fdb4-3736c9c2b932"
      },
      "outputs": [
        {
          "name": "stdout",
          "output_type": "stream",
          "text": [
            "Loaded 65 foods and 100 ratings\n"
          ]
        }
      ],
      "source": [
        "# Load data\n",
        "food_data = pd.read_csv(\"food_data.csv\")\n",
        "match_data = pd.read_csv(\"match_rating.csv\")\n",
        "\n",
        "print(f\"Loaded {len(food_data)} foods and {len(match_data)} ratings\")"
      ]
    },
    {
      "cell_type": "code",
      "execution_count": null,
      "metadata": {
        "colab": {
          "base_uri": "https://localhost:8080/"
        },
        "id": "x6riI2wKPvuc",
        "outputId": "4d9125b6-8132-43f3-c9d9-094d35858aa8"
      },
      "outputs": [
        {
          "name": "stdout",
          "output_type": "stream",
          "text": [
            "X: 100 samples and 21 features\n"
          ]
        }
      ],
      "source": [
        "feature_vectors = []\n",
        "ratings = []\n",
        "\n",
        "for _, row in match_data.iterrows():\n",
        "    food1 = row['food1']\n",
        "    food2 = row['food2']\n",
        "    rating = row['rating']\n",
        "    food1_profile = food_data[food_data['name'] == food1]\n",
        "    food2_profile = food_data[food_data['name'] == food2]\n",
        "\n",
        "    if len(food1_profile) == 0 or len(food2_profile) == 0:\n",
        "        continue\n",
        "\n",
        "    food1_profile = food1_profile.iloc[0]\n",
        "    food2_profile = food2_profile.iloc[0]\n",
        "    flavor_cols = ['spicy', 'sweet', 'sour', 'salty', 'texture']\n",
        "    f1 = food1_profile[flavor_cols].values\n",
        "    f2 = food2_profile[flavor_cols].values\n",
        "\n",
        "    diff = np.abs(f1 - f2)\n",
        "    product = f1 * f2      \n",
        "\n",
        "    same_type = 1 if food1_profile['type'] == food2_profile['type'] else 0\n",
        "\n",
        "    # Combine all features\n",
        "    features = np.concatenate([\n",
        "        f1,                  \n",
        "        f2,\n",
        "        diff,                \n",
        "        product,             \n",
        "        [same_type]          \n",
        "    ])\n",
        "\n",
        "    feature_vectors.append(features)\n",
        "    ratings.append(rating)\n",
        "X = np.array(feature_vectors)\n",
        "y = np.array(ratings)\n",
        "\n",
        "feature_names = (\n",
        "    [f'food1_{col}' for col in flavor_cols] +\n",
        "    [f'food2_{col}' for col in flavor_cols] +\n",
        "    [f'diff_{col}' for col in flavor_cols] +\n",
        "    [f'product_{col}' for col in flavor_cols] +\n",
        "    ['same_type']\n",
        ")\n",
        "\n",
        "print(f\"X: {X.shape[0]} samples and {X.shape[1]} features\")"
      ]
    },
    {
      "cell_type": "code",
      "execution_count": null,
      "metadata": {
        "id": "io_9CTiqQIAt"
      },
      "outputs": [],
      "source": [
        "X_train, X_test, y_train, y_test = train_test_split(X, y, test_size=0.2, random_state=42)"
      ]
    },
    {
      "cell_type": "code",
      "execution_count": 15,
      "metadata": {
        "id": "b0RuYc0QRqss"
      },
      "outputs": [],
      "source": [
        "X_train_scaled = scaler.fit_transform(X_train)\n",
        "X_test_scaled = scaler.transform(X_test)"
      ]
    },
    {
      "cell_type": "code",
      "execution_count": null,
      "metadata": {
        "id": "ZbsJ3JtHS-TG"
      },
      "outputs": [],
      "source": [
        "def _plot_feature_importance(model):\n",
        "    \"\"\"Plot feature importance for tree-based models\"\"\"\n",
        "    if hasattr(model, 'feature_importances_'):\n",
        "        importances = model.feature_importances_\n",
        "        indices = np.argsort(importances)[::-1]\n",
        "\n",
        "        plt.figure(figsize=(8, 6))\n",
        "        plt.title('Feature Importance')\n",
        "        plt.bar(range(len(indices)), importances[indices], align='center')\n",
        "        plt.xticks(range(len(indices)), [feature_names[i] for i in indices], rotation=90)\n",
        "        plt.tight_layout()\n",
        "        plt.savefig('feature_importance.png')\n",
        "        plt.show()\n",
        "        plt.close()\n",
        "\n",
        "        print(\"Feature importance plot saved as 'feature_importance.png'\")\n",
        "        print(\"\\nTop 10 important features:\")\n",
        "        for i in range(min(10, len(indices))):\n",
        "            print(f\"{feature_names[indices[i]]}: {importances[indices[i]]:.4f}\")"
      ]
    },
    {
      "cell_type": "code",
      "execution_count": null,
      "metadata": {
        "id": "lJOYstH4RsgF"
      },
      "outputs": [],
      "source": [
        "def train_model(X, y, model_type='xgboost'):\n",
        "      X_train, X_test, y_train, y_test = train_test_split(X, y, test_size=0.2, random_state=42)\n",
        "\n",
        "      X_train_scaled = scaler.fit_transform(X_train)\n",
        "      X_test_scaled = scaler.transform(X_test)\n",
        "\n",
        "      if model_type == 'random_forest':\n",
        "          model = RandomForestRegressor(n_estimators=100, random_state=42)\n",
        "          param_grid = {\n",
        "              'n_estimators': [50, 100, 200],\n",
        "              'max_depth': [None, 10, 20, 30],\n",
        "              'min_samples_split': [2, 5, 10]\n",
        "          }\n",
        "      elif model_type == 'gradient_boosting':\n",
        "          model = GradientBoostingRegressor(random_state=42)\n",
        "          param_grid = {\n",
        "              'n_estimators': [50, 100, 200],\n",
        "              'learning_rate': [0.01, 0.1, 0.2],\n",
        "              'max_depth': [3, 5, 7]\n",
        "          }\n",
        "      elif model_type == 'neural_network':\n",
        "          model = MLPRegressor(random_state=42, max_iter=2000)\n",
        "          param_grid = {\n",
        "              'hidden_layer_sizes': [(50,), (100,), (50, 50)],\n",
        "              'activation': ['relu', 'tanh'],\n",
        "              'alpha': [0.0001, 0.001, 0.01]\n",
        "          }\n",
        "      elif model_type == 'xgboost':\n",
        "          model = xgb.XGBRegressor(random_state=42)\n",
        "          param_grid = {\n",
        "              'n_estimators': [50, 100, 200],\n",
        "              'learning_rate': [0.01, 0.1, 0.2],\n",
        "              'max_depth': [3, 5, 7],\n",
        "              'min_child_weight': [1, 3, 5]\n",
        "          }\n",
        "      else:\n",
        "          raise ValueError(f\"Unknown model type: {model_type}\")\n",
        "      print(f\"Training {model_type} model with grid search...\")\n",
        "      grid_search = GridSearchCV(model, param_grid, cv=5, scoring='neg_mean_squared_error')\n",
        "      grid_search.fit(X_train_scaled, y_train)\n",
        "\n",
        "      model = grid_search.best_estimator_\n",
        "      y_pred = model.predict(X_test_scaled)\n",
        "      mse = mean_squared_error(y_test, y_pred)\n",
        "      r2 = r2_score(y_test, y_pred)\n",
        "\n",
        "      print(f\"Best parameters: {grid_search.best_params_}\")\n",
        "      print(f\"Test MSE: {mse:.4f}\")\n",
        "      print(f\"Test R²: {r2:.4f}\")\n",
        "\n",
        "      return model\n"
      ]
    },
    {
      "cell_type": "code",
      "execution_count": null,
      "metadata": {
        "id": "RMBQvbxrbJuF"
      },
      "outputs": [],
      "source": [
        "def evaluate_model(model, X, y):\n",
        "    if model is None:\n",
        "        raise ValueError(\"Model not trained yet\")\n",
        "\n",
        "    # Scale features\n",
        "    X_scaled = scaler.transform(X)\n",
        "\n",
        "    # Make predictions\n",
        "    y_pred = model.predict(X_scaled)\n",
        "\n",
        "    # Calculate metrics\n",
        "    mse = mean_squared_error(y, y_pred)\n",
        "    r2 = r2_score(y, y_pred)\n",
        "\n",
        "    # Calculate accuracy within 0.5 and 1.0 points\n",
        "    accuracy_05 = np.mean(np.abs(y - y_pred) <= 0.5)\n",
        "    accuracy_10 = np.mean(np.abs(y - y_pred) <= 1.0)\n",
        "\n",
        "    metrics = {\n",
        "        'mse': mse,\n",
        "        'r2': r2,\n",
        "        'accuracy_within_0.5': accuracy_05,\n",
        "        'accuracy_within_1.0': accuracy_10\n",
        "    }\n",
        "\n",
        "    print(f\"Evaluation metrics:\")\n",
        "    print(f\"MSE: {mse:.4f}\")\n",
        "    print(f\"R²: {r2:.4f}\")\n",
        "    print(f\"Accuracy (within 0.5): {accuracy_05:.2%}\")\n",
        "    print(f\"Accuracy (within 1.0): {accuracy_10:.2%}\")\n",
        "\n",
        "    return metrics"
      ]
    },
    {
      "cell_type": "markdown",
      "metadata": {
        "id": "_JD6GKbpYxoQ"
      },
      "source": [
        "### XG_BOOST"
      ]
    },
    {
      "cell_type": "code",
      "execution_count": 39,
      "metadata": {
        "colab": {
          "base_uri": "https://localhost:8080/"
        },
        "id": "3lkkfHElR7Da",
        "outputId": "28df931c-ceb8-4fad-ceab-ddb7117e84e1"
      },
      "outputs": [
        {
          "name": "stdout",
          "output_type": "stream",
          "text": [
            "Training xgboost model with grid search...\n",
            "Best parameters: {'learning_rate': 0.01, 'max_depth': 5, 'min_child_weight': 3, 'n_estimators': 50}\n",
            "Test MSE: 1.2497\n",
            "Test R²: -0.1084\n"
          ]
        }
      ],
      "source": [
        "xg_model = train_model(X,y, model_type='xgboost')"
      ]
    },
    {
      "cell_type": "code",
      "execution_count": 44,
      "metadata": {
        "colab": {
          "base_uri": "https://localhost:8080/",
          "height": 833
        },
        "id": "Kxtj77xoTQCh",
        "outputId": "218cf9f4-464c-46f5-db90-e3340e51d2b6"
      },
      "outputs": [
        {
          "data": {
            "image/png": "[encoded data removed]",
            "text/plain": [
              "<Figure size 800x600 with 1 Axes>"
            ]
          },
          "metadata": {},
          "output_type": "display_data"
        },
        {
          "name": "stdout",
          "output_type": "stream",
          "text": [
            "Feature importance plot saved as 'feature_importance.png'\n",
            "\n",
            "Top 10 important features:\n",
            "product_sweet: 0.1358\n",
            "food1_sweet: 0.1208\n",
            "food1_spicy: 0.0923\n",
            "diff_texture: 0.0881\n",
            "product_salty: 0.0783\n",
            "diff_sweet: 0.0684\n",
            "food2_spicy: 0.0662\n",
            "diff_sour: 0.0646\n",
            "food2_sweet: 0.0617\n",
            "food1_sour: 0.0513\n"
          ]
        }
      ],
      "source": [
        "_plot_feature_importance(xg_model)"
      ]
    },
    {
      "cell_type": "code",
      "execution_count": 53,
      "metadata": {
        "colab": {
          "base_uri": "https://localhost:8080/"
        },
        "id": "-PC5951ebV7P",
        "outputId": "5aff2675-f6e2-4bef-b0d2-589dbea5c8ea"
      },
      "outputs": [
        {
          "name": "stdout",
          "output_type": "stream",
          "text": [
            "Evaluation metrics:\n",
            "MSE: 1.2497\n",
            "R²: -0.1084\n",
            "Accuracy (within 0.5): 30.00%\n",
            "Accuracy (within 1.0): 40.00%\n"
          ]
        },
        {
          "data": {
            "text/plain": [
              "{'mse': 1.2497185468673706,\n",
              " 'r2': -0.10839784145355225,\n",
              " 'accuracy_within_0.5': np.float64(0.3),\n",
              " 'accuracy_within_1.0': np.float64(0.4)}"
            ]
          },
          "execution_count": 53,
          "metadata": {},
          "output_type": "execute_result"
        }
      ],
      "source": [
        "evaluate_model(xg_model,X_test, y_test)"
      ]
    },
    {
      "cell_type": "markdown",
      "metadata": {
        "id": "-gy-decJbgi8"
      },
      "source": [
        "### RANDOM FOREST"
      ]
    },
    {
      "cell_type": "code",
      "execution_count": 46,
      "metadata": {
        "colab": {
          "base_uri": "https://localhost:8080/",
          "height": 902
        },
        "id": "euiN0KHoUgCl",
        "outputId": "3b7ddaef-25b0-475a-d55b-e6cbb6496cf7"
      },
      "outputs": [
        {
          "name": "stdout",
          "output_type": "stream",
          "text": [
            "Training random_forest model with grid search...\n",
            "Best parameters: {'max_depth': None, 'min_samples_split': 10, 'n_estimators': 100}\n",
            "Test MSE: 1.3832\n",
            "Test R²: -0.2268\n"
          ]
        },
        {
          "data": {
            "image/png": "[encoded data removed]",
            "text/plain": [
              "<Figure size 800x600 with 1 Axes>"
            ]
          },
          "metadata": {},
          "output_type": "display_data"
        },
        {
          "name": "stdout",
          "output_type": "stream",
          "text": [
            "Feature importance plot saved as 'feature_importance.png'\n",
            "\n",
            "Top 10 important features:\n",
            "food2_spicy: 0.1115\n",
            "food1_sweet: 0.0932\n",
            "product_sweet: 0.0887\n",
            "food1_spicy: 0.0857\n",
            "diff_sour: 0.0665\n",
            "diff_sweet: 0.0589\n",
            "diff_texture: 0.0578\n",
            "food1_salty: 0.0526\n",
            "same_type: 0.0421\n",
            "product_spicy: 0.0419\n"
          ]
        }
      ],
      "source": [
        "rf_model = train_model(X,y, model_type='random_forest')\n",
        "_plot_feature_importance(rf_model)"
      ]
    },
    {
      "cell_type": "code",
      "execution_count": 54,
      "metadata": {
        "colab": {
          "base_uri": "https://localhost:8080/"
        },
        "id": "qbUINv5gblmn",
        "outputId": "ef5f032b-d55d-4a06-bc71-9108fb26c373"
      },
      "outputs": [
        {
          "name": "stdout",
          "output_type": "stream",
          "text": [
            "Evaluation metrics:\n",
            "MSE: 1.3832\n",
            "R²: -0.2268\n",
            "Accuracy (within 0.5): 25.00%\n",
            "Accuracy (within 1.0): 45.00%\n"
          ]
        },
        {
          "data": {
            "text/plain": [
              "{'mse': 1.3832312034270426,\n",
              " 'r2': -0.22681259727453873,\n",
              " 'accuracy_within_0.5': np.float64(0.25),\n",
              " 'accuracy_within_1.0': np.float64(0.45)}"
            ]
          },
          "execution_count": 54,
          "metadata": {},
          "output_type": "execute_result"
        }
      ],
      "source": [
        "evaluate_model(rf_model,X_test, y_test)"
      ]
    },
    {
      "cell_type": "markdown",
      "metadata": {
        "id": "MKeBKkgPbs3p"
      },
      "source": [
        "## GRADIENT_BOOSTING"
      ]
    },
    {
      "cell_type": "code",
      "execution_count": 47,
      "metadata": {
        "colab": {
          "base_uri": "https://localhost:8080/",
          "height": 902
        },
        "id": "2N0VdffbYwB0",
        "outputId": "87f7ade3-1069-4fe8-b222-e129f48c4728"
      },
      "outputs": [
        {
          "name": "stdout",
          "output_type": "stream",
          "text": [
            "Training gradient_boosting model with grid search...\n",
            "Best parameters: {'learning_rate': 0.01, 'max_depth': 3, 'n_estimators': 50}\n",
            "Test MSE: 1.2237\n",
            "Test R²: -0.0853\n"
          ]
        },
        {
          "data": {
            "image/png": "[encoded data removed]",
            "text/plain": [
              "<Figure size 800x600 with 1 Axes>"
            ]
          },
          "metadata": {},
          "output_type": "display_data"
        },
        {
          "name": "stdout",
          "output_type": "stream",
          "text": [
            "Feature importance plot saved as 'feature_importance.png'\n",
            "\n",
            "Top 10 important features:\n",
            "food1_sweet: 0.2400\n",
            "food1_spicy: 0.1573\n",
            "product_sweet: 0.1570\n",
            "diff_texture: 0.1423\n",
            "food2_spicy: 0.0656\n",
            "diff_sweet: 0.0519\n",
            "food1_salty: 0.0507\n",
            "diff_salty: 0.0232\n",
            "diff_sour: 0.0222\n",
            "product_salty: 0.0212\n"
          ]
        }
      ],
      "source": [
        "gb_model = train_model(X,y, model_type='gradient_boosting')\n",
        "_plot_feature_importance(gb_model)"
      ]
    },
    {
      "cell_type": "code",
      "execution_count": 55,
      "metadata": {
        "colab": {
          "base_uri": "https://localhost:8080/"
        },
        "id": "YfMcV9udbwJE",
        "outputId": "168a1f14-0d5d-4d0e-ca56-1c2ac046b5a6"
      },
      "outputs": [
        {
          "name": "stdout",
          "output_type": "stream",
          "text": [
            "Evaluation metrics:\n",
            "MSE: 1.2237\n",
            "R²: -0.0853\n",
            "Accuracy (within 0.5): 35.00%\n",
            "Accuracy (within 1.0): 50.00%\n"
          ]
        },
        {
          "data": {
            "text/plain": [
              "{'mse': 1.223665242221597,\n",
              " 'r2': -0.08529068046261346,\n",
              " 'accuracy_within_0.5': np.float64(0.35),\n",
              " 'accuracy_within_1.0': np.float64(0.5)}"
            ]
          },
          "execution_count": 55,
          "metadata": {},
          "output_type": "execute_result"
        }
      ],
      "source": [
        "evaluate_model(gb_model,X_test, y_test)"
      ]
    },
    {
      "cell_type": "markdown",
      "metadata": {
        "id": "ntamRqINb_3N"
      },
      "source": [
        "### NEURAL NETWORK"
      ]
    },
    {
      "cell_type": "code",
      "execution_count": 48,
      "metadata": {
        "colab": {
          "base_uri": "https://localhost:8080/"
        },
        "id": "sTQ39-LAZAJ5",
        "outputId": "20ebe76e-d697-4875-c104-092619ae415b"
      },
      "outputs": [
        {
          "name": "stdout",
          "output_type": "stream",
          "text": [
            "Training neural_network model with grid search...\n",
            "Best parameters: {'activation': 'relu', 'alpha': 0.01, 'hidden_layer_sizes': (50, 50)}\n",
            "Test MSE: 1.5657\n",
            "Test R²: -0.3887\n"
          ]
        }
      ],
      "source": [
        "nn_model = train_model(X,y, model_type='neural_network')\n",
        "_plot_feature_importance(nn_model)"
      ]
    },
    {
      "cell_type": "code",
      "execution_count": 56,
      "metadata": {
        "colab": {
          "base_uri": "https://localhost:8080/"
        },
        "id": "jALoqZWLbIR5",
        "outputId": "a51ac146-d86e-4ded-fab4-a7770ed771b7"
      },
      "outputs": [
        {
          "name": "stdout",
          "output_type": "stream",
          "text": [
            "Evaluation metrics:\n",
            "MSE: 1.5657\n",
            "R²: -0.3887\n",
            "Accuracy (within 0.5): 20.00%\n",
            "Accuracy (within 1.0): 35.00%\n"
          ]
        },
        {
          "data": {
            "text/plain": [
              "{'mse': 1.5657473012975438,\n",
              " 'r2': -0.38868940248119155,\n",
              " 'accuracy_within_0.5': np.float64(0.2),\n",
              " 'accuracy_within_1.0': np.float64(0.35)}"
            ]
          },
          "execution_count": 56,
          "metadata": {},
          "output_type": "execute_result"
        }
      ],
      "source": [
        "evaluate_model(nn_model,X_test, y_test)"
      ]
    },
    {
      "cell_type": "code",
      "execution_count": null,
      "metadata": {
        "id": "TuIeAog8aciK"
      },
      "outputs": [],
      "source": [
        "def predict(model, food1_features, food2_features, food1_type=None, food2_type=None):\n",
        "    if model is None:\n",
        "        raise ValueError(\"Model not trained yet. Call train_model first.\")\n",
        "\n",
        "    # Convert inputs to numpy arrays\n",
        "    food1_features = np.array(food1_features)\n",
        "    food2_features = np.array(food2_features)\n",
        "\n",
        "    # Calculate difference and product features\n",
        "    diff = np.abs(food1_features - food2_features)\n",
        "    product = food1_features * food2_features\n",
        "\n",
        "    # Set same_type feature\n",
        "    same_type = 1 if food1_type == food2_type else 0\n",
        "\n",
        "    # Combine features\n",
        "    features = np.concatenate([\n",
        "        food1_features,\n",
        "        food2_features,\n",
        "        diff,\n",
        "        product,\n",
        "        [same_type]\n",
        "    ]).reshape(1, -1)\n",
        "\n",
        "    # Scale features\n",
        "    features_scaled = scaler.transform(features)\n",
        "\n",
        "    # Predict\n",
        "    prediction = model.predict(features_scaled)[0]\n",
        "\n",
        "    # Ensure prediction is within valid range\n",
        "    prediction = max(1, min(5, prediction))\n",
        "\n",
        "    return prediction"
      ]
    },
    {
      "cell_type": "code",
      "execution_count": null,
      "metadata": {
        "id": "_sxPNYrIZcNv"
      },
      "outputs": [],
      "source": [
        "def predict_from_names(model, food1_name, food2_name, food_data):\n",
        "\n",
        "    food1_profile = food_data[food_data['name'] == food1_name]\n",
        "    food2_profile = food_data[food_data['name'] == food2_name]\n",
        "\n",
        "    if len(food1_profile) == 0:\n",
        "        raise ValueError(f\"Food '{food1_name}' not found in food data\")\n",
        "    if len(food2_profile) == 0:\n",
        "        raise ValueError(f\"Food '{food2_name}' not found in food data\")\n",
        "\n",
        "    food1_profile = food1_profile.iloc[0]\n",
        "    food2_profile = food2_profile.iloc[0]\n",
        "\n",
        "    flavor_cols = ['spicy', 'sweet', 'sour', 'salty', 'texture']\n",
        "    food1_features = food1_profile[flavor_cols].values\n",
        "    food2_features = food2_profile[flavor_cols].values\n",
        "\n",
        "    food1_type = food1_profile['type']\n",
        "    food2_type = food2_profile['type']\n",
        "\n",
        "    return predict(model,food1_features, food2_features, food1_type, food2_type)"
      ]
    },
    {
      "cell_type": "code",
      "execution_count": 71,
      "metadata": {
        "colab": {
          "base_uri": "https://localhost:8080/"
        },
        "id": "cHHYAp2ba6bI",
        "outputId": "6acc10d8-1c9c-4886-8629-5536b13df327"
      },
      "outputs": [
        {
          "name": "stdout",
          "output_type": "stream",
          "text": [
            "น้ำมะนาว (drink) + หมูแดดเดียว (snack): 2.78/5\n",
            "ขนมจีบ (snack) + น้ำองุ่น (drink): 2.74/5\n",
            "เกี๊ยวทอด (snack) + ซาลาเปา (snack): 2.40/5\n"
          ]
        }
      ],
      "source": [
        "# Generate some food pairs for demonstration\n",
        "food_pairs = [\n",
        "    # Try different combinations: same type, different types\n",
        "    (\"น้ำมะนาว\", \"หมูแดดเดียว\"),\n",
        "    (food_data.iloc[2]['name'], food_data.iloc[22]['name']),\n",
        "    (food_data.iloc[3]['name'], food_data.iloc[10]['name']),\n",
        "]\n",
        "\n",
        "best_model = gb_model\n",
        "for food1_name, food2_name in food_pairs:\n",
        "    try:\n",
        "        prediction = predict_from_names(best_model,food1_name, food2_name, food_data)\n",
        "        food1_type = food_data[food_data['name'] == food1_name].iloc[0]['type']\n",
        "        food2_type = food_data[food_data['name'] == food2_name].iloc[0]['type']\n",
        "\n",
        "        print(f\"{food1_name} ({food1_type}) + {food2_name} ({food2_type}): {prediction:.2f}/5\")\n",
        "    except Exception as e:\n",
        "        print(f\"Error predicting {food1_name} + {food2_name}: {e}\")\n",
        "\n"
      ]
    },
    {
      "cell_type": "code",
      "execution_count": 79,
      "metadata": {
        "id": "8ai7ZjLpcicW"
      },
      "outputs": [],
      "source": [
        "def save_model_with_pickle(model, filename='model.pkl'):\n",
        "    \"\"\"\n",
        "    Save a model using pickle.\n",
        "\n",
        "    Parameters:\n",
        "    -----------\n",
        "    model : trained model object\n",
        "        The trained model to save\n",
        "    filename : str\n",
        "        Path where the model will be saved\n",
        "    \"\"\"\n",
        "\n",
        "    joblib.dump(model, 'model2.pkl')\n",
        "    print(f\"Model saved to {filename} using pickle\")"
      ]
    },
    {
      "cell_type": "code",
      "execution_count": 80,
      "metadata": {
        "colab": {
          "base_uri": "https://localhost:8080/"
        },
        "id": "PresIb4ufWVi",
        "outputId": "a586bb9e-7b75-4986-b80c-edd8d28cacb2"
      },
      "outputs": [
        {
          "name": "stdout",
          "output_type": "stream",
          "text": [
            "Model saved to model.pkl using pickle\n"
          ]
        }
      ],
      "source": [
        "save_model_with_pickle(best_model)"
      ]
    },
    {
      "cell_type": "code",
      "execution_count": null,
      "metadata": {
        "id": "aaHEhkJ7ficG"
      },
      "outputs": [],
      "source": []
    }
  ],
  "metadata": {
    "colab": {
      "provenance": []
    },
    "kernelspec": {
      "display_name": "Python 3",
      "name": "python3"
    },
    "language_info": {
      "name": "python"
    }
  },
  "nbformat": 4,
  "nbformat_minor": 0
}
